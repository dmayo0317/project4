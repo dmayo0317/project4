{
 "cells": [
  {
   "cell_type": "code",
   "execution_count": 10,
   "metadata": {},
   "outputs": [],
   "source": [
    "import pandas as pd"
   ]
  },
  {
   "cell_type": "code",
   "execution_count": 28,
   "metadata": {},
   "outputs": [],
   "source": [
    "bitcoin_df = pd.read_csv('Resources/BTC-USD.csv')\n",
    "ethereum_df = pd.read_csv('Resources/ETH-USD.csv')\n",
    "litecoin_df = pd.read_csv('Resources/LTC-USD.csv')\n",
    "xrp_df = pd.read_csv('Resources/XRP-USD.csv')"
   ]
  },
  {
   "cell_type": "code",
   "execution_count": 23,
   "metadata": {},
   "outputs": [
    {
     "data": {
      "text/plain": [
       "(1827, 8)"
      ]
     },
     "execution_count": 23,
     "metadata": {},
     "output_type": "execute_result"
    }
   ],
   "source": [
    "xrp_df.shape"
   ]
  },
  {
   "cell_type": "code",
   "execution_count": 24,
   "metadata": {},
   "outputs": [
    {
     "data": {
      "text/plain": [
       "(1827, 8)"
      ]
     },
     "execution_count": 24,
     "metadata": {},
     "output_type": "execute_result"
    }
   ],
   "source": [
    "ethereum_df.shape"
   ]
  },
  {
   "cell_type": "code",
   "execution_count": 25,
   "metadata": {},
   "outputs": [
    {
     "data": {
      "text/plain": [
       "(1827, 8)"
      ]
     },
     "execution_count": 25,
     "metadata": {},
     "output_type": "execute_result"
    }
   ],
   "source": [
    "litecoin_df.shape"
   ]
  },
  {
   "cell_type": "code",
   "execution_count": 26,
   "metadata": {},
   "outputs": [
    {
     "data": {
      "text/plain": [
       "(1827, 8)"
      ]
     },
     "execution_count": 26,
     "metadata": {},
     "output_type": "execute_result"
    }
   ],
   "source": [
    "bitcoin_df.shape"
   ]
  },
  {
   "cell_type": "code",
   "execution_count": 29,
   "metadata": {},
   "outputs": [
    {
     "data": {
      "text/html": [
       "<div>\n",
       "<style scoped>\n",
       "    .dataframe tbody tr th:only-of-type {\n",
       "        vertical-align: middle;\n",
       "    }\n",
       "\n",
       "    .dataframe tbody tr th {\n",
       "        vertical-align: top;\n",
       "    }\n",
       "\n",
       "    .dataframe thead th {\n",
       "        text-align: right;\n",
       "    }\n",
       "</style>\n",
       "<table border=\"1\" class=\"dataframe\">\n",
       "  <thead>\n",
       "    <tr style=\"text-align: right;\">\n",
       "      <th></th>\n",
       "      <th>Type</th>\n",
       "      <th>Date</th>\n",
       "      <th>Open</th>\n",
       "      <th>High</th>\n",
       "      <th>Low</th>\n",
       "      <th>Close</th>\n",
       "      <th>Adj Close</th>\n",
       "      <th>Volume</th>\n",
       "    </tr>\n",
       "  </thead>\n",
       "  <tbody>\n",
       "    <tr>\n",
       "      <th>0</th>\n",
       "      <td>BTC</td>\n",
       "      <td>12/2/2016</td>\n",
       "      <td>757.544983</td>\n",
       "      <td>781.296021</td>\n",
       "      <td>757.544983</td>\n",
       "      <td>777.943970</td>\n",
       "      <td>777.943970</td>\n",
       "      <td>127605000.0</td>\n",
       "    </tr>\n",
       "    <tr>\n",
       "      <th>1</th>\n",
       "      <td>BTC</td>\n",
       "      <td>12/3/2016</td>\n",
       "      <td>778.247986</td>\n",
       "      <td>778.247986</td>\n",
       "      <td>764.856018</td>\n",
       "      <td>771.155029</td>\n",
       "      <td>771.155029</td>\n",
       "      <td>69547296.0</td>\n",
       "    </tr>\n",
       "    <tr>\n",
       "      <th>2</th>\n",
       "      <td>BTC</td>\n",
       "      <td>12/4/2016</td>\n",
       "      <td>771.638000</td>\n",
       "      <td>773.872009</td>\n",
       "      <td>768.161011</td>\n",
       "      <td>773.872009</td>\n",
       "      <td>773.872009</td>\n",
       "      <td>60557900.0</td>\n",
       "    </tr>\n",
       "    <tr>\n",
       "      <th>3</th>\n",
       "      <td>BTC</td>\n",
       "      <td>12/5/2016</td>\n",
       "      <td>773.393982</td>\n",
       "      <td>773.468018</td>\n",
       "      <td>751.713013</td>\n",
       "      <td>758.700012</td>\n",
       "      <td>758.700012</td>\n",
       "      <td>106363000.0</td>\n",
       "    </tr>\n",
       "    <tr>\n",
       "      <th>4</th>\n",
       "      <td>BTC</td>\n",
       "      <td>12/6/2016</td>\n",
       "      <td>758.719971</td>\n",
       "      <td>765.622009</td>\n",
       "      <td>758.719971</td>\n",
       "      <td>764.223999</td>\n",
       "      <td>764.223999</td>\n",
       "      <td>116218000.0</td>\n",
       "    </tr>\n",
       "  </tbody>\n",
       "</table>\n",
       "</div>"
      ],
      "text/plain": [
       "  Type       Date        Open        High         Low       Close   Adj Close  \\\n",
       "0  BTC  12/2/2016  757.544983  781.296021  757.544983  777.943970  777.943970   \n",
       "1  BTC  12/3/2016  778.247986  778.247986  764.856018  771.155029  771.155029   \n",
       "2  BTC  12/4/2016  771.638000  773.872009  768.161011  773.872009  773.872009   \n",
       "3  BTC  12/5/2016  773.393982  773.468018  751.713013  758.700012  758.700012   \n",
       "4  BTC  12/6/2016  758.719971  765.622009  758.719971  764.223999  764.223999   \n",
       "\n",
       "        Volume  \n",
       "0  127605000.0  \n",
       "1   69547296.0  \n",
       "2   60557900.0  \n",
       "3  106363000.0  \n",
       "4  116218000.0  "
      ]
     },
     "execution_count": 29,
     "metadata": {},
     "output_type": "execute_result"
    }
   ],
   "source": [
    "merge_df = pd.concat([bitcoin_df,ethereum_df,litecoin_df,xrp_df]).reset_index(drop=True)\n",
    "merge_df.head()"
   ]
  },
  {
   "cell_type": "code",
   "execution_count": 30,
   "metadata": {},
   "outputs": [
    {
     "data": {
      "text/plain": [
       "(7308, 8)"
      ]
     },
     "execution_count": 30,
     "metadata": {},
     "output_type": "execute_result"
    }
   ],
   "source": [
    "merge_df.shape"
   ]
  },
  {
   "cell_type": "code",
   "execution_count": 31,
   "metadata": {},
   "outputs": [],
   "source": [
    "merge_df.to_csv(\"crypto_merged.csv\", index=False)"
   ]
  }
 ],
 "metadata": {
  "kernelspec": {
   "display_name": "Python [conda env:PythonData] *",
   "language": "python",
   "name": "conda-env-PythonData-py"
  },
  "language_info": {
   "codemirror_mode": {
    "name": "ipython",
    "version": 3
   },
   "file_extension": ".py",
   "mimetype": "text/x-python",
   "name": "python",
   "nbconvert_exporter": "python",
   "pygments_lexer": "ipython3",
   "version": "3.6.10"
  }
 },
 "nbformat": 4,
 "nbformat_minor": 4
}
