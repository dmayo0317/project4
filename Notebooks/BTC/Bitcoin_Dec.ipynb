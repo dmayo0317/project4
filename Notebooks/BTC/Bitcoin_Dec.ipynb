{
 "cells": [
  {
   "cell_type": "code",
   "execution_count": null,
   "metadata": {},
   "outputs": [],
   "source": [
    "import numpy as np\n",
    "import pandas as pd\n",
    "import seaborn; seaborn.set()\n",
    "from pmdarima import auto_arima\n",
    "from pathlib import Path\n",
    "from sklearn.linear_model import LogisticRegression\n",
    "from sklearn.preprocessing import StandardScaler\n",
    "from sklearn.ensemble import RandomForestClassifier\n",
    "from sklearn.metrics import classification_report\n",
    "from sklearn.metrics import mean_squared_error\n",
    "from statsmodels.tsa.seasonal import seasonal_decompose\n",
    "import matplotlib.pyplot as plt\n",
    "import matplotlib.dates as mdates\n",
    "from datetime import datetime, timedelta\n",
    "import matplotlib.pylab as plt"
   ]
  },
  {
   "cell_type": "code",
   "execution_count": null,
   "metadata": {},
   "outputs": [],
   "source": [
    "btcDec_df = pd.read_csv('../../Resources/BTC/BTC-USD_Historical_Dec-11-2021.csv',index_col='Date', parse_dates= True)\n",
    "btcDec_df.head(5)"
   ]
  },
  {
   "cell_type": "code",
   "execution_count": null,
   "metadata": {},
   "outputs": [],
   "source": [
    "btcDec_df.dtypes"
   ]
  },
  {
   "cell_type": "code",
   "execution_count": null,
   "metadata": {},
   "outputs": [],
   "source": [
    "btcDec_df = btcDec_df.drop(columns=['Open','High','Low','Adj Close','Volume'])"
   ]
  },
  {
   "cell_type": "code",
   "execution_count": null,
   "metadata": {},
   "outputs": [],
   "source": [
    "btcDec_df.head(10)"
   ]
  },
  {
   "cell_type": "code",
   "execution_count": null,
   "metadata": {},
   "outputs": [],
   "source": [
    "btcDec_df.dtypes"
   ]
  },
  {
   "cell_type": "code",
   "execution_count": null,
   "metadata": {},
   "outputs": [],
   "source": [
    "results = seasonal_decompose(btcDec_df['Close'],model ='multiplicative',period=1)\n",
    "plt.rcParams.update({'figure.figsize': (15,10)})\n",
    "results.plot()"
   ]
  },
  {
   "cell_type": "code",
   "execution_count": null,
   "metadata": {},
   "outputs": [],
   "source": [
    "#Arima\n",
    "import warnings\n",
    "warnings.filterwarnings(\"ignore\")\n",
    "\n",
    "# Fit auto_arima function to AirPassengers dataset\n",
    "stepwise_fit = auto_arima(btcDec_df['Close'], start_p = 0, start_q = 0,\n",
    "max_p = 4, max_q = 4, m = 12,\n",
    "start_P = 0, seasonal = True,\n",
    "d = None, D = 1, trace = True,\n",
    "error_action ='ignore', # we don't want to know if an order does not work\n",
    "suppress_warnings = True, # we don't want convergence warnings\n",
    "stepwise = True)# set to stepwise\n",
    "\n",
    "# To print the summary\n",
    "stepwise_fit.summary()\n"
   ]
  },
  {
   "cell_type": "code",
   "execution_count": null,
   "metadata": {},
   "outputs": [],
   "source": [
    "# Split data into train / test sets\n",
    "train = btcDec_df.iloc[:len(btcDec_df)-12]\n",
    "test = btcDec_df.iloc[len(btcDec_df)-12:] # set one year(12 months) for testing\n",
    "\n",
    "# Fit a SARIMAX(0, 1, 1)x(2, 1, 1, 12) on the training set\n",
    "from statsmodels.tsa.statespace.sarimax import SARIMAX\n",
    "\n",
    "model = SARIMAX(train['Close'],\n",
    "order = (0, 1, 1),\n",
    "seasonal_order =(2, 1, 1, 12))\n",
    "\n",
    "result = model.fit()\n",
    "result.summary()\n"
   ]
  },
  {
   "cell_type": "code",
   "execution_count": null,
   "metadata": {},
   "outputs": [],
   "source": [
    "#Predictions of ARIMA Model agains the Test set\n",
    "start = len(train)\n",
    "end = len(train) + len(test) - 1\n",
    "\n",
    "# Predictions for one-year against the test set\n",
    "predictions = result.predict(start, end,typ = 'levels').rename(\"Close\")\n",
    "\n",
    "# plot predictions and actual values\n",
    "predictions.plot(legend = True)\n",
    "test['Close'].plot(legend = True)\n"
   ]
  },
  {
   "cell_type": "code",
   "execution_count": null,
   "metadata": {},
   "outputs": [],
   "source": [
    "#Evaluate the model using MSE and RMSE\n",
    "# Load specific evaluation tools\n",
    "from sklearn.metrics import mean_squared_error\n",
    "from statsmodels.tools.eval_measures import rmse\n",
    "\n",
    "# Calculate root mean squared error\n",
    "rmse(test[\"Close\"], predictions)"
   ]
  },
  {
   "cell_type": "code",
   "execution_count": null,
   "metadata": {},
   "outputs": [],
   "source": [
    "# Calculate mean squared error\n",
    "mean_squared_error(test[\"Close\"], predictions)"
   ]
  },
  {
   "cell_type": "code",
   "execution_count": null,
   "metadata": {},
   "outputs": [],
   "source": [
    "# Train the model on the full dataset\n",
    "model = model = SARIMAX(btcDec_df['Close'],order = (0, 1, 1),seasonal_order =(2, 1, 1, 12))\n",
    "result = model.fit()\n",
    "\n",
    "# Forecast for the next 3 years\n",
    "forecast = result.predict(start = len(btcDec_df),end = (len(btcDec_df)-1) + 3 * 12,typ = 'levels').rename('Forecast')\n",
    "\n",
    "# Plot the forecast values\n",
    "btcDec_df['Close'].plot(figsize = (20, 10), legend = True, fontsize =15)\n",
    "forecast.plot(legend = True)\n",
    "plt.title(\"Bitcoin Future Forcast after December First week\", fontsize = 25)\n",
    "plt.xlabel('Years',fontsize=15)\n",
    "plt.ylabel('Closing Amount (USD)',fontsize=15)\n"
   ]
  },
  {
   "cell_type": "code",
   "execution_count": null,
   "metadata": {},
   "outputs": [],
   "source": []
  },
  {
   "cell_type": "code",
   "execution_count": null,
   "metadata": {},
   "outputs": [],
   "source": []
  }
 ],
 "metadata": {
  "kernelspec": {
   "display_name": "Python [conda env:PythonData] *",
   "language": "python",
   "name": "conda-env-PythonData-py"
  },
  "language_info": {
   "codemirror_mode": {
    "name": "ipython",
    "version": 3
   },
   "file_extension": ".py",
   "mimetype": "text/x-python",
   "name": "python",
   "nbconvert_exporter": "python",
   "pygments_lexer": "ipython3",
   "version": "3.6.10"
  }
 },
 "nbformat": 4,
 "nbformat_minor": 4
}
